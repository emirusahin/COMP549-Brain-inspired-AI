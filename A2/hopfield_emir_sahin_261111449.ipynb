{
 "cells": [
  {
   "cell_type": "code",
   "metadata": {
    "ExecuteTime": {
     "end_time": "2025-02-26T04:47:51.811683Z",
     "start_time": "2025-02-26T04:47:51.804684Z"
    }
   },
   "source": [
    "import numpy as np\n",
    "import numpy.random as random\n",
    "import matplotlib.pyplot as plt\n",
    "import pickle, gzip, urllib.request, json"
   ],
   "outputs": [],
   "execution_count": 182
  },
  {
   "cell_type": "code",
   "metadata": {
    "ExecuteTime": {
     "end_time": "2025-02-26T04:47:51.963723Z",
     "start_time": "2025-02-26T04:47:51.954976Z"
    }
   },
   "source": [
    "#To ensure reproducibility\n",
    "random.seed(11)\n",
    "np.random.seed(11)"
   ],
   "outputs": [],
   "execution_count": 183
  },
  {
   "cell_type": "code",
   "metadata": {
    "ExecuteTime": {
     "end_time": "2025-02-26T04:47:52.754054Z",
     "start_time": "2025-02-26T04:47:52.113362Z"
    }
   },
   "source": [
    "# Load the dataset\n",
    "with gzip.open('mnist.pkl.gz', 'rb') as f:\n",
    "    train_set, valid_set, test_set = pickle.load(f, encoding='latin1')\n",
    "\n",
    "# Get the data into arrays\n",
    "images = train_set[0]\n",
    "labels = train_set[1]\n",
    "\n",
    "# Put aside an array for the patterns\n",
    "patterns = np.zeros((10,784))\n",
    "    \n",
    "# Set aside one image per class to store (10 images in total)\n",
    "for category in range(10):\n",
    "    inclass = [i for i in range(labels.shape[0]) if labels[i] == category]\n",
    "    patterns[category,:] = 1.0*(images[inclass[random.randint(0,len(inclass))],:] > 0)"
   ],
   "outputs": [],
   "execution_count": 184
  },
  {
   "cell_type": "code",
   "metadata": {
    "ExecuteTime": {
     "end_time": "2025-02-26T04:47:52.839101Z",
     "start_time": "2025-02-26T04:47:52.755071Z"
    }
   },
   "source": [
    "#Plot the patterns we're going to store\n",
    "fig, axs = plt.subplots(1,10)\n",
    "for c in range(10):\n",
    "    axs[c].imshow(patterns[c,:].reshape((28,28)), cmap='gray')\n",
    "    axs[c].axis(\"off\")\n",
    "plt.show()"
   ],
   "outputs": [
    {
     "data": {
      "text/plain": [
       "<Figure size 640x480 with 10 Axes>"
      ],
      "image/png": "[encoded data removed]"
     },
     "metadata": {},
     "output_type": "display_data"
    }
   ],
   "execution_count": 185
  },
  {
   "cell_type": "code",
   "metadata": {
    "ExecuteTime": {
     "end_time": "2025-02-26T04:48:50.424439Z",
     "start_time": "2025-02-26T04:48:50.415908Z"
    }
   },
   "source": [
    "class hopfield_network(object):\n",
    "    \"\"\"\n",
    "    Define a class for a Hopfield network here.\n",
    "    You must also define the functions below, but you can add additional arguments, etc.\n",
    "    Also, note that you are welcome to write your own helper functions. \n",
    "    Reminder: you should use numpy functions for vector and matrix operations. No autograd!\n",
    "    \"\"\"\n",
    "\n",
    "    # The initialization function for the hopfield network\n",
    "    def __init__(self,N,lr=1):\n",
    "        \"\"\"\n",
    "       Initialize the Hopfield network.\n",
    "\n",
    "       Parameters:\n",
    "           N (int): Number of neurons in the network.\n",
    "           lr (float): Learning rate for updating weights and thresholds (default is 1).\n",
    "\n",
    "       Attributes:\n",
    "           self.state (numpy array): A vector of length N representing the current state of each neuron.\n",
    "                                     Initially set to zeros.\n",
    "           self.lr (float): The learning rate.\n",
    "           self.w (numpy array): The weight matrix of shape (N, N) representing synaptic connections between neurons.\n",
    "                                 Initialized to zeros, with the diagonal set to zero (no self-connections).\n",
    "           self.threshold (numpy array): A vector of thresholds for each neuron, initialized to zero.\n",
    "       \"\"\"\n",
    "\n",
    "        self.state = np.zeros((N,))  # Initialize the neuron state vector to zeros.\n",
    "        self.lr = lr  # Set the learning rate.\n",
    "        self.w = np.zeros((N, N))  # Initialize the weight matrix to zeros.\n",
    "        np.fill_diagonal(self.w, 0)  # Remove self-connections by setting the diagonal to zero.\n",
    "        self.threshold = np.zeros((N,))  # Initialize thresholds for each neuron to zero.\n",
    "\n",
    "\n",
    "\n",
    "    # The function for setting the activity state of the network\n",
    "    def set_state(self,activity):\n",
    "        \"\"\"\n",
    "        set_state(activity)\n",
    "        \n",
    "        Sets the state of the network to the pattern given by activity.\n",
    "        \n",
    "        You do not need to change this function.\n",
    "        \"\"\"\n",
    "\n",
    "        # set the state to activity\n",
    "        self.state = activity\n",
    "\n",
    "    # The function for updating the state of the network\n",
    "    def update(self):\n",
    "        \"\"\"\n",
    "        Update the state of a randomly selected neuron based on its local field.\n",
    "\n",
    "        The net input to neuron i is computed as the weighted sum of inputs from all other neurons.\n",
    "        If this input exceeds the neuron's threshold, the neuron is set to +1 (active); otherwise, to -1 (inactive).\n",
    "\n",
    "        Returns:\n",
    "            numpy array: The updated state of the network.\n",
    "        \"\"\"\n",
    "        # Randomly select a neuron index to update.\n",
    "        i = np.random.choice(len(self.state))\n",
    "\n",
    "        # Compute the net input for the selected neuron\n",
    "        net_i = np.dot(self.w[i, :], self.state)\n",
    "\n",
    "        # Update the neuron's state based on the threshold\n",
    "        if net_i > self.threshold[i]:\n",
    "            self.state[i] = 1  # Neuron fires: state becomes +1.\n",
    "        else:\n",
    "            self.state[i] = -1  # Neuron does not fire: state becomes -1.\n",
    "\n",
    "        return self.state\n",
    "\n",
    "    \n",
    "    def store_one(self, image):\n",
    "        \"\"\"\n",
    "       Store a single image pattern into the network using a Hebbian learning rule.\n",
    "\n",
    "       Parameters:\n",
    "           image (numpy array): The input image, assumed to be in a 2D format.\n",
    "       \"\"\"\n",
    "        flattened_image = image.flatten()\n",
    "        activity = np.where(flattened_image > 0.5, 1, -1) # Convert the image to a binary activity pattern (+1 for values > 0.5, else -1).\n",
    "        self.set_state(activity) # Set the network's state to the derived activity pattern.\n",
    "        \n",
    "        self.w = self.lr * np.outer(self.state, self.state) # Update the weight matrix using the Hebbian learning rule\n",
    "        np.fill_diagonal(self.w, 0)  # Remove self-connections\n",
    "        \n",
    "        \n",
    "    # The function for storing multiple images in one shot\n",
    "    def store_multi(self,images):\n",
    "        \"\"\"\n",
    "        Store multiple image patterns into the network.\n",
    "        \n",
    "        Parameters:\n",
    "            images (list of numpy arrays): A list of images (each in 2D format) to be stored.\n",
    "        \"\"\"\n",
    "        N = len(self.state) # number of neurons\n",
    "        weights = []     # List to collect weight matrices for each image.\n",
    "        \n",
    "       \n",
    "        for image in images:\n",
    "            # Reset the weight matrix and threshold vector for each image.\n",
    "            self.w = np.zeros((N, N))\n",
    "            self.threshold = np.zeros((N,))\n",
    "\n",
    "            # Flatten the image and convert it into a binary state pattern.\n",
    "            flattened_image = image.flatten()\n",
    "            activity = np.where(flattened_image > 0.5, 1, -1)\n",
    "            self.set_state(activity) \n",
    "\n",
    "            self.w = self.lr * np.outer(self.state, self.state) # Compute W using the Hebbian rule.\n",
    "            weights.append(self.w) # Save the computed weight matrix.\n",
    "\n",
    "        self.w = np.sum(weights, axis=0) # Combine the weight matrices from all images by summing them.\n",
    "        np.fill_diagonal(self.w, 0) # Remove self-connections\n"
   ],
   "outputs": [],
   "execution_count": 192
  },
  {
   "metadata": {
    "ExecuteTime": {
     "end_time": "2025-02-26T04:48:50.548898Z",
     "start_time": "2025-02-26T04:48:50.544685Z"
    }
   },
   "cell_type": "code",
   "source": [
    "# Some helper functions for generating test images\n",
    "\n",
    "# The function for generating a noisy version of an image\n",
    "def image_noise(image,noise_level=0.1):\n",
    "    \"\"\"\n",
    "    new_image = test_noise(image)\n",
    "        \n",
    "    This function takes an image, adds noise to it, and returns it. \n",
    "\n",
    "    noise_level - between 0-1, try experimenting with this\n",
    "\n",
    "    \"\"\"\n",
    "    \n",
    "    # create a mask for adding noise to the image\n",
    "    image_mask = random.uniform(size=image.shape) < noise_level\n",
    "    \n",
    "    return np.logical_xor(image,image_mask)\n",
    "    \n",
    "# The function for generating a combo of two images\n",
    "def image_combo(image1,image2,image1_weight=0.5):\n",
    "    \"\"\"\n",
    "    newimage = test_combo(image1,image2)\n",
    "        \n",
    "    This function takes a pair of images, combines them, and returns the result.\n",
    "    \n",
    "    image1_weight - between 0-1, try experimenting with this\n",
    "\n",
    "    \"\"\"\n",
    "    \n",
    "    # create a mask for mixing the images\n",
    "    image1_mask = random.uniform(size=image1.shape) < image1_weight\n",
    "        \n",
    "    return image1_mask*image1 + (1-image1_mask)*image2"
   ],
   "outputs": [],
   "execution_count": 193
  },
  {
   "metadata": {
    "ExecuteTime": {
     "end_time": "2025-02-26T04:48:50.768253Z",
     "start_time": "2025-02-26T04:48:50.697245Z"
    }
   },
   "cell_type": "code",
   "source": [
    "# Test the helper functions to make sure they work\n",
    "\n",
    "# # Pick some random images\n",
    "# image1 = patterns[random.randint(0,10)]\n",
    "# image2 = patterns[random.randint(0,10)]\n",
    "\n",
    "# # pick the most orthogonal images\n",
    "image1 = patterns[6]\n",
    "image2 = patterns[5]\n",
    "\n",
    "# Create a little array for storage\n",
    "test_images = np.zeros((2,3,784))\n",
    "\n",
    "# Generate a series of noise images\n",
    "test_images[0,0,:] = image_noise(image1)\n",
    "test_images[0,1,:] = image_noise(image1,noise_level=0.3)\n",
    "test_images[0,2,:] = image_noise(image1,noise_level=0.5)\n",
    "\n",
    "# Generate a series of combo images\n",
    "test_images[1,0,:] = image_combo(image1,image2,image1_weight=0.2)\n",
    "test_images[1,1,:] = image_combo(image1,image2)\n",
    "test_images[1,2,:] = image_combo(image1,image2,image1_weight=0.8)\n",
    "\n",
    "# Plot the images, plus the originals on top\n",
    "fig, axs = plt.subplots(3,3)\n",
    "axs[0,0].imshow(image1.reshape((28,28)), cmap='gray')\n",
    "axs[0,0].axis(\"off\")\n",
    "axs[0,1].imshow(image2.reshape((28,28)), cmap='gray')\n",
    "axs[0,1].axis(\"off\")\n",
    "axs[0,2].axis(\"off\")\n",
    "for c in range(3):\n",
    "    axs[1,c].imshow(test_images[0,c,:].reshape((28,28)), cmap='gray')\n",
    "    axs[1,c].axis(\"off\")\n",
    "    axs[2,c].imshow(test_images[1,c,:].reshape((28,28)), cmap='gray')\n",
    "    axs[2,c].axis(\"off\")\n",
    "plt.show()"
   ],
   "outputs": [
    {
     "data": {
      "text/plain": [
       "<Figure size 640x480 with 9 Axes>"
      ],
      "image/png": "[encoded data removed]"
     },
     "metadata": {},
     "output_type": "display_data"
    }
   ],
   "execution_count": 194
  },
  {
   "metadata": {
    "ExecuteTime": {
     "end_time": "2025-02-26T04:48:58.361809Z",
     "start_time": "2025-02-26T04:48:58.352803Z"
    }
   },
   "cell_type": "code",
   "source": [
    "# Create a Hopfield network and train it\n",
    "\n",
    "one_pattern = False # flag for whether to store one pattern at a time\n",
    "\n",
    "hnet = hopfield_network(784) # construct the network\n",
    "\n",
    "if one_pattern:\n",
    "    # Train the network to store all the patterns using your store_one function\n",
    "    hnet.store_one(image1)\n",
    "    \n",
    "else:\n",
    "    # Train the network to store all the patterns using your store_multi function \n",
    "    hnet.store_multi([image1, image2])"
   ],
   "outputs": [],
   "execution_count": 197
  },
  {
   "metadata": {},
   "cell_type": "markdown",
   "source": "## Part 3"
  },
  {
   "metadata": {
    "ExecuteTime": {
     "end_time": "2025-02-26T04:48:59.434305Z",
     "start_time": "2025-02-26T04:48:58.996248Z"
    }
   },
   "cell_type": "code",
   "source": [
    "# Plot generated images from your Hopfield network as it updates after receiving an initial pattern that is\n",
    "\n",
    "# number of time-steps to run the network for\n",
    "numsteps = 4000 # feel free to change this\n",
    "\n",
    "\n",
    "# a noisy version of an image that was stored\n",
    "activity = np.zeros((numsteps,784)) # each row is a timestep \n",
    "activity[0,:] = image_noise(image1, noise_level=0.1)\n",
    "hnet.set_state(activity[0,:])\n",
    "\n",
    "\n",
    "for t in range(numsteps-1):\n",
    "    activity[t+1,:] = hnet.update()\n",
    "    activity[t+1, :] = np.where(activity[t+1, :] >= 0, 1, -1)\n",
    "    hnet.set_state(activity[t+1,:])\n",
    "\n",
    "\n",
    "# Plot the original image, noisy input, and final recovered state\n",
    "fig, axs = plt.subplots(1, 3, figsize=(12, 4))\n",
    "\n",
    "# Original image\n",
    "axs[0].imshow(image1.reshape((28, 28)), cmap='gray')\n",
    "axs[0].set_title(\"Original Image\")\n",
    "axs[0].axis(\"off\")\n",
    "\n",
    "# Noisy input\n",
    "axs[1].imshow(activity[0, :].reshape((28, 28)), cmap='gray')\n",
    "axs[1].set_title(\"Noisy Input\")\n",
    "axs[1].axis(\"off\")\n",
    "\n",
    "# Final recovered state\n",
    "axs[2].imshow(activity[-1, :].reshape((28, 28)), cmap='gray')\n",
    "axs[2].set_title(\"Final State\")\n",
    "axs[2].axis(\"off\")\n",
    "\n",
    "# Adjust layout and display the plot\n",
    "plt.tight_layout()\n",
    "plt.show()\n",
    "\n",
    "# Number of snapshots\n",
    "num_snapshots = 10\n",
    "snapshot_indices = np.linspace(0, numsteps - 1, num_snapshots, dtype=int)\n",
    "\n",
    "# Create the plot (only 1 row now)\n",
    "fig, axs = plt.subplots(1, num_snapshots, figsize=(18, 3))\n",
    "\n",
    "# Bottom row: Snapshots over time\n",
    "for i, idx in enumerate(snapshot_indices):\n",
    "    axs[i].imshow(activity[idx, :].reshape((28, 28)), cmap='gray')\n",
    "    axs[i].set_title(f\"Step {idx}\")\n",
    "    axs[i].axis(\"off\")\n",
    "\n",
    "# Adjust layout\n",
    "plt.tight_layout()\n",
    "plt.show()\n"
   ],
   "outputs": [
    {
     "data": {
      "text/plain": [
       "<Figure size 1200x400 with 3 Axes>"
      ],
      "image/png": "[encoded data removed]"
     },
     "metadata": {},
     "output_type": "display_data"
    },
    {
     "data": {
      "text/plain": [
       "<Figure size 1800x300 with 10 Axes>"
      ],
      "image/png": "[encoded data removed]"
     },
     "metadata": {},
     "output_type": "display_data"
    }
   ],
   "execution_count": 198
  },
  {
   "metadata": {},
   "cell_type": "markdown",
   "source": "### Part 3 Bonus"
  },
  {
   "cell_type": "code",
   "metadata": {
    "ExecuteTime": {
     "end_time": "2025-02-26T04:49:00.875278Z",
     "start_time": "2025-02-26T04:49:00.527278Z"
    }
   },
   "source": [
    "# Plot generated images from your Hopfield network as it updates after receiving an initial pattern that is\n",
    "# a combination of two images that were stored\n",
    "\n",
    "# number of time-steps to run the network for\n",
    "numsteps = 4000 # feel free to change this\n",
    "\n",
    "# create an array for storing activity states over time\n",
    "activity = np.zeros((numsteps,784))\n",
    "\n",
    "\n",
    "activity[0,:] = image_combo(image1,image2)\n",
    "hnet.set_state(activity[0,:])\n",
    "for t in range(numsteps-1):\n",
    "    activity[t+1,:] = hnet.update()\n",
    "    activity[t+1, :] = np.where(activity[t+1, :] >= 0, 1, -1)\n",
    "    hnet.set_state(activity[t+1,:])\n",
    "\n",
    "# Plot the original image, noisy input, and final recovered state\n",
    "fig, axs = plt.subplots(1, 3, figsize=(12, 4))\n",
    "\n",
    "# image 1\n",
    "axs[0].imshow(image1.reshape((28, 28)), cmap='gray')\n",
    "axs[0].set_title(\"Image 1\")\n",
    "axs[0].axis(\"off\")\n",
    "\n",
    "# image 2\n",
    "axs[1].imshow(image2.reshape((28, 28)), cmap='gray')\n",
    "axs[1].set_title(\"Image 2\")\n",
    "axs[1].axis(\"off\")\n",
    "\n",
    "# mixed image\n",
    "axs[2].imshow(activity[0,:].reshape((28, 28)), cmap='gray')\n",
    "axs[2].set_title(\"Mixed Image\")\n",
    "axs[2].axis(\"off\")\n",
    "\n",
    "# Adjust layout and display the plot\n",
    "plt.tight_layout()\n",
    "plt.show()\n",
    "\n",
    "# Number of snapshots\n",
    "num_snapshots = 10\n",
    "snapshot_indices = np.linspace(0, numsteps - 1, num_snapshots, dtype=int)\n",
    "\n",
    "# Create the plot (only 1 row now)\n",
    "fig, axs = plt.subplots(1, num_snapshots, figsize=(18, 3))\n",
    "\n",
    "# Bottom row: Snapshots over time\n",
    "for i, idx in enumerate(snapshot_indices):\n",
    "    axs[i].imshow(activity[idx, :].reshape((28, 28)), cmap='gray')\n",
    "    axs[i].set_title(f\"Step {idx}\")\n",
    "    axs[i].axis(\"off\")\n",
    "\n",
    "# Adjust layout\n",
    "plt.tight_layout()\n",
    "plt.show()"
   ],
   "outputs": [
    {
     "data": {
      "text/plain": [
       "<Figure size 1200x400 with 3 Axes>"
      ],
      "image/png": "[encoded data removed]"
     },
     "metadata": {},
     "output_type": "display_data"
    },
    {
     "data": {
      "text/plain": [
       "<Figure size 1800x300 with 10 Axes>"
      ],
      "image/png": "[encoded data removed]"
     },
     "metadata": {},
     "output_type": "display_data"
    }
   ],
   "execution_count": 199
  }
 ],
 "metadata": {
  "kernelspec": {
   "display_name": "Python 3",
   "language": "python",
   "name": "python3"
  },
  "language_info": {
   "codemirror_mode": {
    "name": "ipython",
    "version": 3
   },
   "file_extension": ".py",
   "mimetype": "text/x-python",
   "name": "python",
   "nbconvert_exporter": "python",
   "pygments_lexer": "ipython3",
   "version": "3.7.3"
  }
 },
 "nbformat": 4,
 "nbformat_minor": 2
}
