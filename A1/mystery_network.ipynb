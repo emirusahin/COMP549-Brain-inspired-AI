{
 "cells": [
  {
   "cell_type": "code",
   "execution_count": 1,
   "metadata": {},
   "outputs": [],
   "source": [
    "# Below you will find the code for our mystery network, ready for your analysis\n",
    "# Read the assignment instructions, and run through the code to figure out how to answer the questions\n",
    "# Feel free to play with the values passed to the functions, but it is recommended not to change the code"
   ]
  },
  {
   "metadata": {
    "ExecuteTime": {
     "end_time": "2025-02-07T19:07:02.049325Z",
     "start_time": "2025-02-07T19:07:00.821930Z"
    }
   },
   "cell_type": "code",
   "source": [
    "# import the necessary libraries\n",
    "import numpy as np\n",
    "import numpy.random as random\n",
    "import matplotlib.pyplot as plt\n",
    "import pdb"
   ],
   "outputs": [],
   "execution_count": 2
  },
  {
   "metadata": {
    "ExecuteTime": {
     "end_time": "2025-02-07T19:07:02.055134Z",
     "start_time": "2025-02-07T19:07:02.050885Z"
    }
   },
   "cell_type": "code",
   "source": [
    "#To ensure reproducibility\n",
    "np.random.seed(11)"
   ],
   "outputs": [],
   "execution_count": 3
  },
  {
   "metadata": {
    "ExecuteTime": {
     "end_time": "2025-02-07T19:07:02.067058Z",
     "start_time": "2025-02-07T19:07:02.057237Z"
    }
   },
   "cell_type": "code",
   "source": [
    "# Normally would be an informative comment\n",
    "def myfunction(X):\n",
    "    \"\"\"\n",
    "    If a number in X is less than 0, it is replaced by 0. If a number in X is greater than 1, it is replaced by 1.\n",
    "    \"\"\"\n",
    "    \n",
    "    # Normally would be an informative comment\n",
    "    Y = X\n",
    "    mask = (X < 0)\n",
    "    Y[mask] = 0\n",
    "    mask = (X > 1)\n",
    "    Y[mask] = 1\n",
    "    return Y\n",
    " \n",
    "# Normally would be an informative comment\n",
    "def helper(inputs):\n",
    "    \"\"\"\n",
    "    The function gets a 2d np.array as input and append a new row of all 1's to it and returns the new array.\n",
    "    Adds a bias term \n",
    "    \"\"\"\n",
    "    return np.append(inputs,np.ones((1,inputs.shape[1])),axis=0)"
   ],
   "outputs": [],
   "execution_count": 4
  },
  {
   "metadata": {
    "ExecuteTime": {
     "end_time": "2025-02-08T03:30:22.010201Z",
     "start_time": "2025-02-08T03:30:21.995692Z"
    }
   },
   "cell_type": "code",
   "source": [
    "# test the previous cell\n",
    "inputs  = ((0,0,0,0),(0,0,0,1),(0,0,1,0),(0,0,1,1),(0,1,0,0),(0,1,0,1),(0,1,1,0),(0,1,1,1),\n",
    "           (1,0,0,0),(1,0,0,1),(1,0,1,0),(1,0,1,1),(1,1,0,0),(1,1,0,1),(1,1,1,0),(1,1,1,1))\n",
    "# myfunction(np.array([-1.5, 0.2, 0.8, 1.5, 2.0]))\n",
    "# \n",
    "# helper( np.array([[1, 2, 3]]))\n",
    "# print(np.array(inputs))\n",
    "# print(np.array(inputs).transpose().shape) # row 1 of inputs becomes column 1 of the inputs when transposed\n",
    "print(helper(np.array(inputs).transpose()))"
   ],
   "outputs": [
    {
     "name": "stdout",
     "output_type": "stream",
     "text": [
      "[0. 0. 0. 0. 0. 0. 0. 0. 1. 1. 1. 1. 1. 1. 1. 1.]\n"
     ]
    }
   ],
   "execution_count": 13
  },
  {
   "metadata": {
    "ExecuteTime": {
     "end_time": "2025-02-07T17:54:18.537857Z",
     "start_time": "2025-02-07T17:54:18.528355Z"
    }
   },
   "cell_type": "code",
   "source": [
    "class task(object):\n",
    "    \"\"\"\n",
    "    I would usually provide informative instructions and comments here, but that is not the point of \n",
    "    this assignment! Here, you need to analyze the code directly, using the PDP framework, and some insight.\n",
    "    Answer the questions in the assignment instructions by analyzing the code below.\n",
    "    \"\"\"\n",
    "    \n",
    "    # Normally would be an informative comment\n",
    "    def __init__(self,inputs,outputs):\n",
    "        \"\"\"\n",
    "        You will be given inputs and desired outputs. You will transpose them to have 4rx16c input and 3rx16c output.\n",
    "        \"\"\"\n",
    "    \n",
    "        # our actual inputs will have 16 row and 4 columns, each row representing a point in spacec\n",
    "        # our actual outputs will have 16 row and 3 columns, each row representing a point in space\n",
    "        # self.inputs will have 4 rows and 16 columns, each column representing a point in space\n",
    "        # self.outputs will have 3 rows and 16 columns, each column representing a point in space\n",
    "        self.inputs  = np.array(inputs).transpose()\n",
    "        self.outputs = np.array(outputs).transpose()\n",
    "        \n",
    "        # Checks if the number of columns in input and output are the same (since we transposed tehm, each column represents a point)\n",
    "        assert self.inputs.shape[1] == self.outputs.shape[1], \"Number of cases in input and output not equal.\"\n",
    "            \n",
    "        \n",
    "    # Normally would be an informative comment\n",
    "    def ncases(self):\n",
    "        \"\"\"\n",
    "        Gives back the number of columns in self.inputs (which is np.array(inputs.transpose())) so how many input points we have\n",
    "        Will give 16\n",
    "        \"\"\"\n",
    "        return self.inputs.shape[1]\n",
    "    \n",
    "    # Normally would be an informative comment\n",
    "    def ninputs(self):\n",
    "        \"\"\"\n",
    "        How many rows do you have in self.inputs (which is np.array(inputs.transpose())) \n",
    "        Will give 4\n",
    "        \"\"\"\n",
    "        return self.inputs.shape[0]\n",
    "    \n",
    "    # Normally would be an informative comment\n",
    "    def noutputs(self):\n",
    "        \"\"\"\n",
    "        How many rows do you have in self.outputs (which is np.array(outputs.transpose())) \n",
    "        Will give 3\n",
    "        \"\"\"\n",
    "        return self.outputs.shape[0]\n",
    "\n",
    "# Normally would be an informative comment\n",
    "inputs  = ((0,0,0,0),(0,0,0,1),(0,0,1,0),(0,0,1,1),(0,1,0,0),(0,1,0,1),(0,1,1,0),(0,1,1,1),\n",
    "           (1,0,0,0),(1,0,0,1),(1,0,1,0),(1,0,1,1),(1,1,0,0),(1,1,0,1),(1,1,1,0),(1,1,1,1))\n",
    "outputs = ((0,0,0),(0,0,1),(0,1,0),(0,1,1),(1,0,0),(1,0,1),(1,1,0),(1,1,1),\n",
    "           (1,1,1),(1,1,0),(1,0,1),(1,0,0),(0,1,1),(0,1,0),(0,0,1),(0,0,0))\n",
    "ourtask = task(inputs,outputs)\n"
   ],
   "outputs": [],
   "execution_count": 43
  },
  {
   "metadata": {
    "ExecuteTime": {
     "end_time": "2025-02-07T17:54:18.697990Z",
     "start_time": "2025-02-07T17:54:18.688369Z"
    }
   },
   "cell_type": "code",
   "source": [
    "class network(object):\n",
    "    \"\"\"\n",
    "    I would usually provide informative instructions and comments here, but that is not the point of \n",
    "    this assignment! Here, you need to analyze the code directly, using the PDP framework, and some insight.\n",
    "    Answer the questions in the assignment instructions by analyzing the code below.\n",
    "    \"\"\"\n",
    "    \n",
    "    # Normally would be an informative comment\n",
    "    def __init__(self, task, N, eta, alpha):\n",
    "        \"\"\"\n",
    "        Normally would be an informative specification for the function\n",
    "        \"\"\"\n",
    "        self.task  = task\n",
    "        self.N     = N \n",
    "        self.eta   = eta # learning rate\n",
    "        self.alpha = alpha # standard deviation of the distribution of the random weights\n",
    "        self.W0   = random.normal(scale=self.alpha,size=(self.N, self.task.ninputs()+1)) # random initialize the input to hidden layer weights, with self.N rows and self.task.ninputs()+1 columns\n",
    "        self.W1   = random.normal(scale=self.alpha,size=(self.task.noutputs(),self.N+1)) # random initialize the hidden to output layer weights with self.task.noutputs() rows and self.N+1 columns\n",
    "    \n",
    "    # Normally would be an informative comment\n",
    "    def forward(self):\n",
    "        \"\"\"\n",
    "        Tensors are states of activations. \n",
    "        \"\"\"\n",
    "            \n",
    "        # tensor0 = state of activation of the hidden layer neurons\n",
    "        # myfunction will make it so that each activation will be between 0 and 1\n",
    "        tensor0 = myfunction(np.dot(self.W0,helper(self.task.inputs))) \n",
    "                              \n",
    "        # tensor1 = state of activation of the output layer neurons\n",
    "        tensor1 = myfunction(np.dot(self.W1,helper(tensor0)))\n",
    "                      \n",
    "        return (tensor0,tensor1)\n",
    "                           \n",
    "    # Normally would be an informative comment\n",
    "    def important_function(self,tensor1):\n",
    "        \"\"\"\n",
    "        Normally would be an informative specification for the function\n",
    "        \"\"\"\n",
    "                      \n",
    "        return np.mean(np.sum((self.task.outputs - tensor1)**2,axis=0)) # mean of sum of squares of errors (what does this evan mean)\n",
    "    \n",
    "    # Normally would be an informative comment\n",
    "    def one_loop(self):\n",
    "        \"\"\"\n",
    "        Normally would be an informative specification for the function\n",
    "        \"\"\"\n",
    "        # Normally would be an informative comment\n",
    "        (tensor0,tensor1) = self.forward()\n",
    "        error    = self.task.outputs - tensor1\n",
    "        delta_W0 = np.dot(np.dot(self.W1[:,:-1].transpose(),error),helper(self.task.inputs).transpose())\n",
    "        delta_W1 = np.dot(error,helper(tensor0).transpose())\n",
    "        \n",
    "        # Normally would be an informative comment\n",
    "        self.W0 += self.eta*delta_W0  # hidden layer weights\n",
    "        self.W1 += self.eta*delta_W1  # output layer weights\n",
    "        # pdb.set_trace()\n",
    "        \n",
    "        return tensor1\n",
    "    \n",
    "    # Normally would be an informative comment\n",
    "    def make_ready(self, M):\n",
    "        \"\"\"\n",
    "        Normally would be an informative specification for the function\n",
    "        \"\"\"\n",
    "        \n",
    "        # Normally would be an informative comment\n",
    "        important_values = np.zeros((M,))\n",
    "        \n",
    "        # Normally would be an informative comment\n",
    "        for m in range(M):\n",
    "            tensor1 = self.one_loop() # one loop of the training including the weight updates\n",
    "            important_values[m] = self.important_function(tensor1)\n",
    "        \n",
    "        # Normally would be an informative comment\n",
    "        plt.plot(important_values)\n",
    "        plt.ylabel(\"Important function\")\n",
    "        plt.xlabel(\"Number of loops\")\n",
    "        plt.show()\n",
    "        \n",
    "        plt.imshow(self.W0)\n",
    "        plt.show()\n",
    "        \n",
    "        plt.imshow(self.W1)\n",
    "        plt.show()\n"
   ],
   "outputs": [],
   "execution_count": 44
  },
  {
   "metadata": {
    "ExecuteTime": {
     "end_time": "2025-02-07T17:53:38.192049Z",
     "start_time": "2025-02-07T17:53:38.009545Z"
    }
   },
   "cell_type": "code",
   "source": [
    "# Normally would be an informative commenty\n",
    "N     = 10  # default: 100, but feel free to play with this value\n",
    "eta   = 0.01 # default: 0.01, but feel free to play with this value\n",
    "alpha = 1.0  # default: 1.0, but feel free to play with this value\n",
    "M     = 500  # default: 500, but feel free to play with this value (it looks like make_ready might be the training function and M might be the number of epochs)\n",
    "\n",
    "ournet = network(ourtask,N,eta,alpha)\n",
    "ournet.make_ready(M)"
   ],
   "outputs": [
    {
     "data": {
      "text/plain": [
       "<Figure size 640x480 with 1 Axes>"
      ],
      "image/png": "[encoded data removed]"
     },
     "metadata": {},
     "output_type": "display_data"
    },
    {
     "data": {
      "text/plain": [
       "<Figure size 640x480 with 1 Axes>"
      ],
      "image/png": "[encoded data removed]"
     },
     "metadata": {},
     "output_type": "display_data"
    },
    {
     "data": {
      "text/plain": [
       "<Figure size 640x480 with 1 Axes>"
      ],
      "image/png": "[encoded data removed]"
     },
     "metadata": {},
     "output_type": "display_data"
    }
   ],
   "execution_count": 40
  },
  {
   "metadata": {},
   "cell_type": "code",
   "outputs": [],
   "execution_count": null,
   "source": ""
  }
 ],
 "metadata": {
  "kernelspec": {
   "display_name": "Python 3 (ipykernel)",
   "language": "python",
   "name": "python3"
  },
  "language_info": {
   "codemirror_mode": {
    "name": "ipython",
    "version": 3
   },
   "file_extension": ".py",
   "mimetype": "text/x-python",
   "name": "python",
   "nbconvert_exporter": "python",
   "pygments_lexer": "ipython3",
   "version": "3.8.3"
  }
 },
 "nbformat": 4,
 "nbformat_minor": 2
}
